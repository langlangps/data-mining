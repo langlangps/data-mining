{
 "cells": [
  {
   "cell_type": "markdown",
   "metadata": {},
   "source": [
    "# Movie Rating Modelling\n",
    "\n",
    "Tubagus Langlang Purwasasmita\n",
    "\n",
    "221810634\n",
    "\n",
    "3SD1 - Politeknik Statistika STIS"
   ]
  },
  {
   "cell_type": "markdown",
   "metadata": {},
   "source": [
    "## Library Importing"
   ]
  },
  {
   "cell_type": "code",
   "execution_count": 32,
   "metadata": {
    "executionInfo": {
     "elapsed": 1083,
     "status": "ok",
     "timestamp": 1603783758873,
     "user": {
      "displayName": "lang alang",
      "photoUrl": "https://lh3.googleusercontent.com/a-/AOh14GgplAvkTPBxxcjvkdrG2J0JksDWv-JNet5o1amhwcs=s64",
      "userId": "04852784157615382999"
     },
     "user_tz": -420
    },
    "id": "8IToxmp_zbuJ"
   },
   "outputs": [],
   "source": [
    "import numpy as np\n",
    "import pandas as pd\n",
    "\n",
    "from sklearn.ensemble import RandomForestClassifier\n",
    "\n",
    "from sklearn.preprocessing import OneHotEncoder, LabelEncoder\n",
    "\n",
    "from sklearn.model_selection import cross_validate\n",
    "from sklearn.metrics import accuracy_score, recall_score, precision_score, f1_score, confusion_matrix, classification_report"
   ]
  },
  {
   "cell_type": "markdown",
   "metadata": {},
   "source": [
    "## Loading Data"
   ]
  },
  {
   "cell_type": "code",
   "execution_count": 4,
   "metadata": {
    "colab": {
     "base_uri": "https://localhost:8080/",
     "height": 431
    },
    "executionInfo": {
     "elapsed": 1395,
     "status": "ok",
     "timestamp": 1603781454525,
     "user": {
      "displayName": "lang alang",
      "photoUrl": "https://lh3.googleusercontent.com/a-/AOh14GgplAvkTPBxxcjvkdrG2J0JksDWv-JNet5o1amhwcs=s64",
      "userId": "04852784157615382999"
     },
     "user_tz": -420
    },
    "id": "IwkfA9y_0PfH",
    "outputId": "f8601c71-32f8-4ba5-f69c-9422d0f117a2"
   },
   "outputs": [
    {
     "data": {
      "text/html": [
       "<div>\n",
       "<style scoped>\n",
       "    .dataframe tbody tr th:only-of-type {\n",
       "        vertical-align: middle;\n",
       "    }\n",
       "\n",
       "    .dataframe tbody tr th {\n",
       "        vertical-align: top;\n",
       "    }\n",
       "\n",
       "    .dataframe thead th {\n",
       "        text-align: right;\n",
       "    }\n",
       "</style>\n",
       "<table border=\"1\" class=\"dataframe\">\n",
       "  <thead>\n",
       "    <tr style=\"text-align: right;\">\n",
       "      <th></th>\n",
       "      <th>Movie</th>\n",
       "      <th>Year</th>\n",
       "      <th>Ratings</th>\n",
       "      <th>Genre</th>\n",
       "      <th>Gross</th>\n",
       "      <th>Budget</th>\n",
       "      <th>Screens</th>\n",
       "      <th>Sequel</th>\n",
       "      <th>Sentiment</th>\n",
       "      <th>Views</th>\n",
       "      <th>Likes</th>\n",
       "      <th>Dislikes</th>\n",
       "      <th>Comments</th>\n",
       "      <th>Aggregate Followers</th>\n",
       "    </tr>\n",
       "  </thead>\n",
       "  <tbody>\n",
       "    <tr>\n",
       "      <td>0</td>\n",
       "      <td>13 Sins</td>\n",
       "      <td>2014</td>\n",
       "      <td>6.3</td>\n",
       "      <td>8</td>\n",
       "      <td>9130</td>\n",
       "      <td>4000000.0</td>\n",
       "      <td>45.0</td>\n",
       "      <td>1</td>\n",
       "      <td>0</td>\n",
       "      <td>3280543</td>\n",
       "      <td>4632</td>\n",
       "      <td>425</td>\n",
       "      <td>636</td>\n",
       "      <td>1120000.0</td>\n",
       "    </tr>\n",
       "    <tr>\n",
       "      <td>1</td>\n",
       "      <td>22 Jump Street</td>\n",
       "      <td>2014</td>\n",
       "      <td>7.1</td>\n",
       "      <td>1</td>\n",
       "      <td>192000000</td>\n",
       "      <td>50000000.0</td>\n",
       "      <td>3306.0</td>\n",
       "      <td>2</td>\n",
       "      <td>2</td>\n",
       "      <td>583289</td>\n",
       "      <td>3465</td>\n",
       "      <td>61</td>\n",
       "      <td>186</td>\n",
       "      <td>12350000.0</td>\n",
       "    </tr>\n",
       "    <tr>\n",
       "      <td>2</td>\n",
       "      <td>3 Days to Kill</td>\n",
       "      <td>2014</td>\n",
       "      <td>6.2</td>\n",
       "      <td>1</td>\n",
       "      <td>30700000</td>\n",
       "      <td>28000000.0</td>\n",
       "      <td>2872.0</td>\n",
       "      <td>1</td>\n",
       "      <td>0</td>\n",
       "      <td>304861</td>\n",
       "      <td>328</td>\n",
       "      <td>34</td>\n",
       "      <td>47</td>\n",
       "      <td>483000.0</td>\n",
       "    </tr>\n",
       "    <tr>\n",
       "      <td>3</td>\n",
       "      <td>300: Rise of an Empire</td>\n",
       "      <td>2014</td>\n",
       "      <td>6.3</td>\n",
       "      <td>1</td>\n",
       "      <td>106000000</td>\n",
       "      <td>110000000.0</td>\n",
       "      <td>3470.0</td>\n",
       "      <td>2</td>\n",
       "      <td>0</td>\n",
       "      <td>452917</td>\n",
       "      <td>2429</td>\n",
       "      <td>132</td>\n",
       "      <td>590</td>\n",
       "      <td>568000.0</td>\n",
       "    </tr>\n",
       "    <tr>\n",
       "      <td>4</td>\n",
       "      <td>A Haunted House 2</td>\n",
       "      <td>2014</td>\n",
       "      <td>4.7</td>\n",
       "      <td>8</td>\n",
       "      <td>17300000</td>\n",
       "      <td>3500000.0</td>\n",
       "      <td>2310.0</td>\n",
       "      <td>2</td>\n",
       "      <td>0</td>\n",
       "      <td>3145573</td>\n",
       "      <td>12163</td>\n",
       "      <td>610</td>\n",
       "      <td>1082</td>\n",
       "      <td>1923800.0</td>\n",
       "    </tr>\n",
       "    <tr>\n",
       "      <td>5</td>\n",
       "      <td>A Long Way Off</td>\n",
       "      <td>2014</td>\n",
       "      <td>4.6</td>\n",
       "      <td>3</td>\n",
       "      <td>29000</td>\n",
       "      <td>500000.0</td>\n",
       "      <td>NaN</td>\n",
       "      <td>1</td>\n",
       "      <td>0</td>\n",
       "      <td>91137</td>\n",
       "      <td>112</td>\n",
       "      <td>7</td>\n",
       "      <td>1</td>\n",
       "      <td>310000.0</td>\n",
       "    </tr>\n",
       "  </tbody>\n",
       "</table>\n",
       "</div>"
      ],
      "text/plain": [
       "                    Movie  Year  Ratings  Genre      Gross       Budget  \\\n",
       "0                 13 Sins  2014      6.3      8       9130    4000000.0   \n",
       "1          22 Jump Street  2014      7.1      1  192000000   50000000.0   \n",
       "2          3 Days to Kill  2014      6.2      1   30700000   28000000.0   \n",
       "3  300: Rise of an Empire  2014      6.3      1  106000000  110000000.0   \n",
       "4       A Haunted House 2  2014      4.7      8   17300000    3500000.0   \n",
       "5          A Long Way Off  2014      4.6      3      29000     500000.0   \n",
       "\n",
       "   Screens  Sequel  Sentiment    Views  Likes  Dislikes  Comments  \\\n",
       "0     45.0       1          0  3280543   4632       425       636   \n",
       "1   3306.0       2          2   583289   3465        61       186   \n",
       "2   2872.0       1          0   304861    328        34        47   \n",
       "3   3470.0       2          0   452917   2429       132       590   \n",
       "4   2310.0       2          0  3145573  12163       610      1082   \n",
       "5      NaN       1          0    91137    112         7         1   \n",
       "\n",
       "   Aggregate Followers  \n",
       "0            1120000.0  \n",
       "1           12350000.0  \n",
       "2             483000.0  \n",
       "3             568000.0  \n",
       "4            1923800.0  \n",
       "5             310000.0  "
      ]
     },
     "execution_count": 4,
     "metadata": {},
     "output_type": "execute_result"
    }
   ],
   "source": [
    "data = pd.read_excel('data/2014 and 2015 CSM dataset.xlsx')\n",
    "data.head(6)"
   ]
  },
  {
   "cell_type": "markdown",
   "metadata": {
    "id": "-DH-QUJW0j-b"
   },
   "source": [
    "# Eksplorasi Data"
   ]
  },
  {
   "cell_type": "markdown",
   "metadata": {},
   "source": [
    "### Describing Data"
   ]
  },
  {
   "cell_type": "code",
   "execution_count": 5,
   "metadata": {
    "colab": {
     "base_uri": "https://localhost:8080/",
     "height": 449
    },
    "executionInfo": {
     "elapsed": 1074,
     "status": "ok",
     "timestamp": 1603781466939,
     "user": {
      "displayName": "lang alang",
      "photoUrl": "https://lh3.googleusercontent.com/a-/AOh14GgplAvkTPBxxcjvkdrG2J0JksDWv-JNet5o1amhwcs=s64",
      "userId": "04852784157615382999"
     },
     "user_tz": -420
    },
    "id": "AKhIzi1R0rQK",
    "outputId": "cf686200-caf1-4f90-9a13-573c5c88fe52"
   },
   "outputs": [
    {
     "data": {
      "text/html": [
       "<div>\n",
       "<style scoped>\n",
       "    .dataframe tbody tr th:only-of-type {\n",
       "        vertical-align: middle;\n",
       "    }\n",
       "\n",
       "    .dataframe tbody tr th {\n",
       "        vertical-align: top;\n",
       "    }\n",
       "\n",
       "    .dataframe thead th {\n",
       "        text-align: right;\n",
       "    }\n",
       "</style>\n",
       "<table border=\"1\" class=\"dataframe\">\n",
       "  <thead>\n",
       "    <tr style=\"text-align: right;\">\n",
       "      <th></th>\n",
       "      <th>Movie</th>\n",
       "      <th>Year</th>\n",
       "      <th>Ratings</th>\n",
       "      <th>Genre</th>\n",
       "      <th>Gross</th>\n",
       "      <th>Budget</th>\n",
       "      <th>Screens</th>\n",
       "      <th>Sequel</th>\n",
       "      <th>Sentiment</th>\n",
       "      <th>Views</th>\n",
       "      <th>Likes</th>\n",
       "      <th>Dislikes</th>\n",
       "      <th>Comments</th>\n",
       "      <th>Aggregate Followers</th>\n",
       "    </tr>\n",
       "  </thead>\n",
       "  <tbody>\n",
       "    <tr>\n",
       "      <th>count</th>\n",
       "      <td>231</td>\n",
       "      <td>231.000000</td>\n",
       "      <td>231.000000</td>\n",
       "      <td>231.000000</td>\n",
       "      <td>2.310000e+02</td>\n",
       "      <td>2.300000e+02</td>\n",
       "      <td>221.000000</td>\n",
       "      <td>231.000000</td>\n",
       "      <td>231.000000</td>\n",
       "      <td>2.310000e+02</td>\n",
       "      <td>231.000000</td>\n",
       "      <td>231.000000</td>\n",
       "      <td>231.000000</td>\n",
       "      <td>1.960000e+02</td>\n",
       "    </tr>\n",
       "    <tr>\n",
       "      <th>unique</th>\n",
       "      <td>231</td>\n",
       "      <td>NaN</td>\n",
       "      <td>NaN</td>\n",
       "      <td>NaN</td>\n",
       "      <td>NaN</td>\n",
       "      <td>NaN</td>\n",
       "      <td>NaN</td>\n",
       "      <td>NaN</td>\n",
       "      <td>NaN</td>\n",
       "      <td>NaN</td>\n",
       "      <td>NaN</td>\n",
       "      <td>NaN</td>\n",
       "      <td>NaN</td>\n",
       "      <td>NaN</td>\n",
       "    </tr>\n",
       "    <tr>\n",
       "      <th>top</th>\n",
       "      <td>Inherent Vice</td>\n",
       "      <td>NaN</td>\n",
       "      <td>NaN</td>\n",
       "      <td>NaN</td>\n",
       "      <td>NaN</td>\n",
       "      <td>NaN</td>\n",
       "      <td>NaN</td>\n",
       "      <td>NaN</td>\n",
       "      <td>NaN</td>\n",
       "      <td>NaN</td>\n",
       "      <td>NaN</td>\n",
       "      <td>NaN</td>\n",
       "      <td>NaN</td>\n",
       "      <td>NaN</td>\n",
       "    </tr>\n",
       "    <tr>\n",
       "      <th>freq</th>\n",
       "      <td>1</td>\n",
       "      <td>NaN</td>\n",
       "      <td>NaN</td>\n",
       "      <td>NaN</td>\n",
       "      <td>NaN</td>\n",
       "      <td>NaN</td>\n",
       "      <td>NaN</td>\n",
       "      <td>NaN</td>\n",
       "      <td>NaN</td>\n",
       "      <td>NaN</td>\n",
       "      <td>NaN</td>\n",
       "      <td>NaN</td>\n",
       "      <td>NaN</td>\n",
       "      <td>NaN</td>\n",
       "    </tr>\n",
       "    <tr>\n",
       "      <th>mean</th>\n",
       "      <td>NaN</td>\n",
       "      <td>2014.294372</td>\n",
       "      <td>6.441558</td>\n",
       "      <td>5.359307</td>\n",
       "      <td>6.806603e+07</td>\n",
       "      <td>4.792173e+07</td>\n",
       "      <td>2209.244344</td>\n",
       "      <td>1.359307</td>\n",
       "      <td>2.809524</td>\n",
       "      <td>3.712851e+06</td>\n",
       "      <td>12732.536797</td>\n",
       "      <td>679.051948</td>\n",
       "      <td>1825.701299</td>\n",
       "      <td>3.038193e+06</td>\n",
       "    </tr>\n",
       "    <tr>\n",
       "      <th>std</th>\n",
       "      <td>NaN</td>\n",
       "      <td>0.456750</td>\n",
       "      <td>0.988765</td>\n",
       "      <td>4.141611</td>\n",
       "      <td>8.890289e+07</td>\n",
       "      <td>5.428825e+07</td>\n",
       "      <td>1463.767755</td>\n",
       "      <td>0.967241</td>\n",
       "      <td>6.996775</td>\n",
       "      <td>4.511104e+06</td>\n",
       "      <td>28825.484481</td>\n",
       "      <td>1243.929481</td>\n",
       "      <td>3571.040447</td>\n",
       "      <td>4.886278e+06</td>\n",
       "    </tr>\n",
       "    <tr>\n",
       "      <th>min</th>\n",
       "      <td>NaN</td>\n",
       "      <td>2014.000000</td>\n",
       "      <td>3.100000</td>\n",
       "      <td>1.000000</td>\n",
       "      <td>2.470000e+03</td>\n",
       "      <td>7.000000e+04</td>\n",
       "      <td>2.000000</td>\n",
       "      <td>1.000000</td>\n",
       "      <td>-38.000000</td>\n",
       "      <td>6.980000e+02</td>\n",
       "      <td>1.000000</td>\n",
       "      <td>0.000000</td>\n",
       "      <td>0.000000</td>\n",
       "      <td>1.066000e+03</td>\n",
       "    </tr>\n",
       "    <tr>\n",
       "      <th>25%</th>\n",
       "      <td>NaN</td>\n",
       "      <td>2014.000000</td>\n",
       "      <td>5.800000</td>\n",
       "      <td>1.000000</td>\n",
       "      <td>1.030000e+07</td>\n",
       "      <td>9.000000e+06</td>\n",
       "      <td>449.000000</td>\n",
       "      <td>1.000000</td>\n",
       "      <td>0.000000</td>\n",
       "      <td>6.233020e+05</td>\n",
       "      <td>1776.500000</td>\n",
       "      <td>105.500000</td>\n",
       "      <td>248.500000</td>\n",
       "      <td>1.830250e+05</td>\n",
       "    </tr>\n",
       "    <tr>\n",
       "      <th>50%</th>\n",
       "      <td>NaN</td>\n",
       "      <td>2014.000000</td>\n",
       "      <td>6.500000</td>\n",
       "      <td>3.000000</td>\n",
       "      <td>3.740000e+07</td>\n",
       "      <td>2.800000e+07</td>\n",
       "      <td>2777.000000</td>\n",
       "      <td>1.000000</td>\n",
       "      <td>0.000000</td>\n",
       "      <td>2.409338e+06</td>\n",
       "      <td>6096.000000</td>\n",
       "      <td>341.000000</td>\n",
       "      <td>837.000000</td>\n",
       "      <td>1.052600e+06</td>\n",
       "    </tr>\n",
       "    <tr>\n",
       "      <th>75%</th>\n",
       "      <td>NaN</td>\n",
       "      <td>2015.000000</td>\n",
       "      <td>7.100000</td>\n",
       "      <td>8.000000</td>\n",
       "      <td>8.935000e+07</td>\n",
       "      <td>6.500000e+07</td>\n",
       "      <td>3372.000000</td>\n",
       "      <td>1.000000</td>\n",
       "      <td>5.500000</td>\n",
       "      <td>5.217380e+06</td>\n",
       "      <td>15247.500000</td>\n",
       "      <td>697.500000</td>\n",
       "      <td>2137.000000</td>\n",
       "      <td>3.694500e+06</td>\n",
       "    </tr>\n",
       "    <tr>\n",
       "      <th>max</th>\n",
       "      <td>NaN</td>\n",
       "      <td>2015.000000</td>\n",
       "      <td>8.700000</td>\n",
       "      <td>15.000000</td>\n",
       "      <td>6.430000e+08</td>\n",
       "      <td>2.500000e+08</td>\n",
       "      <td>4324.000000</td>\n",
       "      <td>7.000000</td>\n",
       "      <td>29.000000</td>\n",
       "      <td>3.262678e+07</td>\n",
       "      <td>370552.000000</td>\n",
       "      <td>13960.000000</td>\n",
       "      <td>38363.000000</td>\n",
       "      <td>3.103000e+07</td>\n",
       "    </tr>\n",
       "  </tbody>\n",
       "</table>\n",
       "</div>"
      ],
      "text/plain": [
       "                Movie         Year  ...      Comments  Aggregate Followers\n",
       "count             231   231.000000  ...    231.000000         1.960000e+02\n",
       "unique            231          NaN  ...           NaN                  NaN\n",
       "top     Inherent Vice          NaN  ...           NaN                  NaN\n",
       "freq                1          NaN  ...           NaN                  NaN\n",
       "mean              NaN  2014.294372  ...   1825.701299         3.038193e+06\n",
       "std               NaN     0.456750  ...   3571.040447         4.886278e+06\n",
       "min               NaN  2014.000000  ...      0.000000         1.066000e+03\n",
       "25%               NaN  2014.000000  ...    248.500000         1.830250e+05\n",
       "50%               NaN  2014.000000  ...    837.000000         1.052600e+06\n",
       "75%               NaN  2015.000000  ...   2137.000000         3.694500e+06\n",
       "max               NaN  2015.000000  ...  38363.000000         3.103000e+07\n",
       "\n",
       "[11 rows x 14 columns]"
      ]
     },
     "execution_count": 5,
     "metadata": {
      "tags": []
     },
     "output_type": "execute_result"
    }
   ],
   "source": [
    "data.describe(include = 'all')"
   ]
  },
  {
   "cell_type": "markdown",
   "metadata": {},
   "source": [
    "### Checking Missing Value"
   ]
  },
  {
   "cell_type": "code",
   "execution_count": 8,
   "metadata": {
    "colab": {
     "base_uri": "https://localhost:8080/",
     "height": 284
    },
    "executionInfo": {
     "elapsed": 1398,
     "status": "ok",
     "timestamp": 1603781604004,
     "user": {
      "displayName": "lang alang",
      "photoUrl": "https://lh3.googleusercontent.com/a-/AOh14GgplAvkTPBxxcjvkdrG2J0JksDWv-JNet5o1amhwcs=s64",
      "userId": "04852784157615382999"
     },
     "user_tz": -420
    },
    "id": "ALVharpF0xS-",
    "outputId": "c42b8c76-55b2-44eb-ee38-4eff3ed42f5a"
   },
   "outputs": [
    {
     "data": {
      "text/plain": [
       "Movie                  False\n",
       "Year                   False\n",
       "Ratings                False\n",
       "Genre                  False\n",
       "Gross                  False\n",
       "Budget                  True\n",
       "Screens                 True\n",
       "Sequel                 False\n",
       "Sentiment              False\n",
       "Views                  False\n",
       "Likes                  False\n",
       "Dislikes               False\n",
       "Comments               False\n",
       "Aggregate Followers     True\n",
       "dtype: bool"
      ]
     },
     "execution_count": 8,
     "metadata": {
      "tags": []
     },
     "output_type": "execute_result"
    }
   ],
   "source": [
    "data.isna().any(axis = 0)"
   ]
  },
  {
   "cell_type": "markdown",
   "metadata": {},
   "source": [
    "Terdapat beberapa missing value pada kolom ```Budget```, ```Screens```, dan ```Aggregate Followers```. Berikut adalah jumlah missing value nya"
   ]
  },
  {
   "cell_type": "code",
   "execution_count": 5,
   "metadata": {
    "colab": {
     "base_uri": "https://localhost:8080/",
     "height": 284
    },
    "executionInfo": {
     "elapsed": 1134,
     "status": "ok",
     "timestamp": 1603781628332,
     "user": {
      "displayName": "lang alang",
      "photoUrl": "https://lh3.googleusercontent.com/a-/AOh14GgplAvkTPBxxcjvkdrG2J0JksDWv-JNet5o1amhwcs=s64",
      "userId": "04852784157615382999"
     },
     "user_tz": -420
    },
    "id": "Ho2fN4Oy1Vra",
    "outputId": "8d00ca8d-c8db-4d1f-c5ee-6907d9933686"
   },
   "outputs": [
    {
     "data": {
      "text/plain": [
       "Budget                  1\n",
       "Screens                10\n",
       "Aggregate Followers    35\n",
       "dtype: int64"
      ]
     },
     "execution_count": 5,
     "metadata": {},
     "output_type": "execute_result"
    }
   ],
   "source": [
    "data[['Budget', 'Screens', 'Aggregate Followers']].isna().sum(axis = 0)"
   ]
  },
  {
   "cell_type": "markdown",
   "metadata": {},
   "source": [
    "Untuk sekarang, saya hanya akan menghapus row di dalam data tersebut yang terdapat missing value"
   ]
  },
  {
   "cell_type": "markdown",
   "metadata": {
    "id": "1cKeSOEB3pxu"
   },
   "source": [
    "## Data Preproces"
   ]
  },
  {
   "cell_type": "markdown",
   "metadata": {},
   "source": [
    "### Dropping Movie, Year Column and Drop Missing Value Row\n",
    "\n",
    "Nama Movie dan Year tidak terlalu berpengaruh dalam penentuan rating"
   ]
  },
  {
   "cell_type": "code",
   "execution_count": 8,
   "metadata": {
    "executionInfo": {
     "elapsed": 1696,
     "status": "ok",
     "timestamp": 1603784960099,
     "user": {
      "displayName": "lang alang",
      "photoUrl": "https://lh3.googleusercontent.com/a-/AOh14GgplAvkTPBxxcjvkdrG2J0JksDWv-JNet5o1amhwcs=s64",
      "userId": "04852784157615382999"
     },
     "user_tz": -420
    },
    "id": "MPDxPHxO4WVl"
   },
   "outputs": [],
   "source": [
    "# Menghapus kolom Movie dan Year\n",
    "new_data = data.drop(['Movie', 'Year'], axis = 1)\n",
    "\n",
    "# Menghapus baris yang terdapat missing value\n",
    "new_data = new_data.dropna(axis = 0)"
   ]
  },
  {
   "cell_type": "markdown",
   "metadata": {},
   "source": [
    "### Kategorisasi Label\n",
    "\n",
    "Saya akan mengkategorikan label rating (karena bentuknya klasifikasi), dengan batasan 3 jenis kategori \n",
    "\n",
    "* ```rendah``` : quantile 0% hingga 33%\n",
    "* ```sedang``` : quantile 33% hingga 66%\n",
    "* ```tinggi``` : quantile 66% hingga 100%"
   ]
  },
  {
   "cell_type": "code",
   "execution_count": 11,
   "metadata": {},
   "outputs": [
    {
     "data": {
      "text/html": [
       "<div>\n",
       "<style scoped>\n",
       "    .dataframe tbody tr th:only-of-type {\n",
       "        vertical-align: middle;\n",
       "    }\n",
       "\n",
       "    .dataframe tbody tr th {\n",
       "        vertical-align: top;\n",
       "    }\n",
       "\n",
       "    .dataframe thead th {\n",
       "        text-align: right;\n",
       "    }\n",
       "</style>\n",
       "<table border=\"1\" class=\"dataframe\">\n",
       "  <thead>\n",
       "    <tr style=\"text-align: right;\">\n",
       "      <th></th>\n",
       "      <th>Ratings</th>\n",
       "      <th>Genre</th>\n",
       "      <th>Gross</th>\n",
       "      <th>Budget</th>\n",
       "      <th>Screens</th>\n",
       "      <th>Sequel</th>\n",
       "      <th>Sentiment</th>\n",
       "      <th>Views</th>\n",
       "      <th>Likes</th>\n",
       "      <th>Dislikes</th>\n",
       "      <th>Comments</th>\n",
       "      <th>Aggregate Followers</th>\n",
       "      <th>rating_class</th>\n",
       "    </tr>\n",
       "  </thead>\n",
       "  <tbody>\n",
       "    <tr>\n",
       "      <td>0</td>\n",
       "      <td>6.3</td>\n",
       "      <td>8</td>\n",
       "      <td>9130</td>\n",
       "      <td>4000000.0</td>\n",
       "      <td>45.0</td>\n",
       "      <td>1</td>\n",
       "      <td>0</td>\n",
       "      <td>3280543</td>\n",
       "      <td>4632</td>\n",
       "      <td>425</td>\n",
       "      <td>636</td>\n",
       "      <td>1120000.0</td>\n",
       "      <td>sedang</td>\n",
       "    </tr>\n",
       "    <tr>\n",
       "      <td>1</td>\n",
       "      <td>7.1</td>\n",
       "      <td>1</td>\n",
       "      <td>192000000</td>\n",
       "      <td>50000000.0</td>\n",
       "      <td>3306.0</td>\n",
       "      <td>2</td>\n",
       "      <td>2</td>\n",
       "      <td>583289</td>\n",
       "      <td>3465</td>\n",
       "      <td>61</td>\n",
       "      <td>186</td>\n",
       "      <td>12350000.0</td>\n",
       "      <td>tinggi</td>\n",
       "    </tr>\n",
       "    <tr>\n",
       "      <td>2</td>\n",
       "      <td>6.2</td>\n",
       "      <td>1</td>\n",
       "      <td>30700000</td>\n",
       "      <td>28000000.0</td>\n",
       "      <td>2872.0</td>\n",
       "      <td>1</td>\n",
       "      <td>0</td>\n",
       "      <td>304861</td>\n",
       "      <td>328</td>\n",
       "      <td>34</td>\n",
       "      <td>47</td>\n",
       "      <td>483000.0</td>\n",
       "      <td>sedang</td>\n",
       "    </tr>\n",
       "    <tr>\n",
       "      <td>3</td>\n",
       "      <td>6.3</td>\n",
       "      <td>1</td>\n",
       "      <td>106000000</td>\n",
       "      <td>110000000.0</td>\n",
       "      <td>3470.0</td>\n",
       "      <td>2</td>\n",
       "      <td>0</td>\n",
       "      <td>452917</td>\n",
       "      <td>2429</td>\n",
       "      <td>132</td>\n",
       "      <td>590</td>\n",
       "      <td>568000.0</td>\n",
       "      <td>sedang</td>\n",
       "    </tr>\n",
       "    <tr>\n",
       "      <td>4</td>\n",
       "      <td>4.7</td>\n",
       "      <td>8</td>\n",
       "      <td>17300000</td>\n",
       "      <td>3500000.0</td>\n",
       "      <td>2310.0</td>\n",
       "      <td>2</td>\n",
       "      <td>0</td>\n",
       "      <td>3145573</td>\n",
       "      <td>12163</td>\n",
       "      <td>610</td>\n",
       "      <td>1082</td>\n",
       "      <td>1923800.0</td>\n",
       "      <td>rendah</td>\n",
       "    </tr>\n",
       "  </tbody>\n",
       "</table>\n",
       "</div>"
      ],
      "text/plain": [
       "   Ratings  Genre      Gross       Budget  Screens  Sequel  Sentiment  \\\n",
       "0      6.3      8       9130    4000000.0     45.0       1          0   \n",
       "1      7.1      1  192000000   50000000.0   3306.0       2          2   \n",
       "2      6.2      1   30700000   28000000.0   2872.0       1          0   \n",
       "3      6.3      1  106000000  110000000.0   3470.0       2          0   \n",
       "4      4.7      8   17300000    3500000.0   2310.0       2          0   \n",
       "\n",
       "     Views  Likes  Dislikes  Comments  Aggregate Followers rating_class  \n",
       "0  3280543   4632       425       636            1120000.0       sedang  \n",
       "1   583289   3465        61       186           12350000.0       tinggi  \n",
       "2   304861    328        34        47             483000.0       sedang  \n",
       "3   452917   2429       132       590             568000.0       sedang  \n",
       "4  3145573  12163       610      1082            1923800.0       rendah  "
      ]
     },
     "execution_count": 11,
     "metadata": {},
     "output_type": "execute_result"
    }
   ],
   "source": [
    "bounder = np.quantile(data.Ratings, [0.33,0.66])\n",
    "\n",
    "\n",
    "class_ = ['rendah', 'sedang', 'tinggi']\n",
    "  \n",
    "new_data['rating_class'] = data.Ratings.apply(\n",
    "    lambda x : class_[sum(x > bounder)]\n",
    ")\n",
    "new_data.head(5)"
   ]
  },
  {
   "cell_type": "markdown",
   "metadata": {},
   "source": [
    "### Label and Feature Encoding\n",
    "\n",
    "Feature kategorikal perlu dilakukan encoding dengan ```OneHotEncoding```, dan label kelas (rating_class) perlu juga di lakukan encoding dengan ```LabelEncoding```"
   ]
  },
  {
   "cell_type": "code",
   "execution_count": 20,
   "metadata": {
    "executionInfo": {
     "elapsed": 2717,
     "status": "ok",
     "timestamp": 1603784964282,
     "user": {
      "displayName": "lang alang",
      "photoUrl": "https://lh3.googleusercontent.com/a-/AOh14GgplAvkTPBxxcjvkdrG2J0JksDWv-JNet5o1amhwcs=s64",
      "userId": "04852784157615382999"
     },
     "user_tz": -420
    },
    "id": "Ab6s9bbz5ZqF"
   },
   "outputs": [],
   "source": [
    "X = new_data.drop('Ratings', axis = 1)\n",
    "y = X.pop('rating_class')\n",
    "\n",
    "# One Hot Encoding pada kolom kategorikal\n",
    "cat_col = ['Genre', 'Sequel']\n",
    "\n",
    "ohe = OneHotEncoder(sparse = False, categories = 'auto')\n",
    "\n",
    "# Mennggabungkan data numerik dengan data encoding hasil kategorik\n",
    "X = np.concatenate(\n",
    "    (\n",
    "        # Data Numerik\n",
    "        X.drop(cat_col, axis = 1).to_numpy(),\n",
    "        # Data Kategorik\n",
    "        ohe.fit_transform(X[cat_col])\n",
    "    ),\n",
    "    axis = 1\n",
    ")\n",
    "\n",
    "# Melakukan encoding pada kelas rating\n",
    "le = LabelEncoder()\n",
    "y = le.fit_transform(y)"
   ]
  },
  {
   "cell_type": "code",
   "execution_count": 21,
   "metadata": {
    "colab": {
     "base_uri": "https://localhost:8080/",
     "height": 248
    },
    "executionInfo": {
     "elapsed": 1468,
     "status": "ok",
     "timestamp": 1603784966663,
     "user": {
      "displayName": "lang alang",
      "photoUrl": "https://lh3.googleusercontent.com/a-/AOh14GgplAvkTPBxxcjvkdrG2J0JksDWv-JNet5o1amhwcs=s64",
      "userId": "04852784157615382999"
     },
     "user_tz": -420
    },
    "id": "mYAiqwIXBd7W",
    "outputId": "451bc483-fcb8-4108-b09f-21fa46a84fce"
   },
   "outputs": [
    {
     "data": {
      "text/plain": [
       "array([[9.130000e+03, 4.000000e+06, 4.500000e+01, 0.000000e+00,\n",
       "        3.280543e+06, 4.632000e+03, 4.250000e+02, 6.360000e+02,\n",
       "        1.120000e+06, 0.000000e+00, 0.000000e+00, 0.000000e+00,\n",
       "        0.000000e+00, 0.000000e+00, 1.000000e+00, 0.000000e+00,\n",
       "        0.000000e+00, 0.000000e+00, 0.000000e+00, 1.000000e+00,\n",
       "        0.000000e+00, 0.000000e+00, 0.000000e+00, 0.000000e+00,\n",
       "        0.000000e+00, 0.000000e+00],\n",
       "       [1.920000e+08, 5.000000e+07, 3.306000e+03, 2.000000e+00,\n",
       "        5.832890e+05, 3.465000e+03, 6.100000e+01, 1.860000e+02,\n",
       "        1.235000e+07, 1.000000e+00, 0.000000e+00, 0.000000e+00,\n",
       "        0.000000e+00, 0.000000e+00, 0.000000e+00, 0.000000e+00,\n",
       "        0.000000e+00, 0.000000e+00, 0.000000e+00, 0.000000e+00,\n",
       "        1.000000e+00, 0.000000e+00, 0.000000e+00, 0.000000e+00,\n",
       "        0.000000e+00, 0.000000e+00],\n",
       "       [3.070000e+07, 2.800000e+07, 2.872000e+03, 0.000000e+00,\n",
       "        3.048610e+05, 3.280000e+02, 3.400000e+01, 4.700000e+01,\n",
       "        4.830000e+05, 1.000000e+00, 0.000000e+00, 0.000000e+00,\n",
       "        0.000000e+00, 0.000000e+00, 0.000000e+00, 0.000000e+00,\n",
       "        0.000000e+00, 0.000000e+00, 0.000000e+00, 1.000000e+00,\n",
       "        0.000000e+00, 0.000000e+00, 0.000000e+00, 0.000000e+00,\n",
       "        0.000000e+00, 0.000000e+00],\n",
       "       [1.060000e+08, 1.100000e+08, 3.470000e+03, 0.000000e+00,\n",
       "        4.529170e+05, 2.429000e+03, 1.320000e+02, 5.900000e+02,\n",
       "        5.680000e+05, 1.000000e+00, 0.000000e+00, 0.000000e+00,\n",
       "        0.000000e+00, 0.000000e+00, 0.000000e+00, 0.000000e+00,\n",
       "        0.000000e+00, 0.000000e+00, 0.000000e+00, 0.000000e+00,\n",
       "        1.000000e+00, 0.000000e+00, 0.000000e+00, 0.000000e+00,\n",
       "        0.000000e+00, 0.000000e+00]])"
      ]
     },
     "execution_count": 21,
     "metadata": {},
     "output_type": "execute_result"
    }
   ],
   "source": [
    "X[:4,:]"
   ]
  },
  {
   "cell_type": "code",
   "execution_count": 24,
   "metadata": {},
   "outputs": [
    {
     "data": {
      "text/plain": [
       "array([1, 2, 1, 1, 0, 0, 2, 1, 0, 2, 0, 0, 0, 0, 1, 1, 2, 2, 1, 1, 2, 0,\n",
       "       1, 2, 2, 1, 0, 2, 1, 2, 0, 0, 2, 1, 2, 2, 1, 0, 1, 2, 2, 0, 0, 1,\n",
       "       2, 2, 0, 2, 0, 0, 1, 2, 2, 2, 0, 1, 0, 2, 1, 2, 0, 2, 1, 1, 1, 1,\n",
       "       0, 0, 2, 0, 2, 0, 2, 0, 0, 0, 1, 1, 0, 2, 0, 0, 1, 0, 0, 2, 0, 0,\n",
       "       0, 0, 2, 1, 2, 2, 2, 0, 2, 0, 1, 2, 2, 1, 2, 2, 1, 2, 0, 2, 1, 2,\n",
       "       0, 1, 2, 0, 1, 0, 1, 2, 2, 0, 0, 1, 0, 0, 2, 2, 1, 2, 2, 1, 1, 2,\n",
       "       1, 2, 2, 2, 2, 1, 1, 2, 1, 0, 0, 1, 2, 2, 1, 2, 1, 1, 0, 2, 1, 0,\n",
       "       0, 1, 1, 1, 0, 0, 0, 2, 2, 2, 2, 0, 0, 1, 2, 2, 2, 0, 0, 0, 1, 0,\n",
       "       2, 0, 1, 0, 0, 0, 2, 0, 0, 2, 1])"
      ]
     },
     "execution_count": 24,
     "metadata": {},
     "output_type": "execute_result"
    }
   ],
   "source": [
    "y"
   ]
  },
  {
   "cell_type": "markdown",
   "metadata": {},
   "source": [
    "### Splitting Data\n",
    "\n",
    "Testing data -> 20%"
   ]
  },
  {
   "cell_type": "code",
   "execution_count": 25,
   "metadata": {
    "colab": {
     "base_uri": "https://localhost:8080/",
     "height": 35
    },
    "executionInfo": {
     "elapsed": 1082,
     "status": "ok",
     "timestamp": 1603784991493,
     "user": {
      "displayName": "lang alang",
      "photoUrl": "https://lh3.googleusercontent.com/a-/AOh14GgplAvkTPBxxcjvkdrG2J0JksDWv-JNet5o1amhwcs=s64",
      "userId": "04852784157615382999"
     },
     "user_tz": -420
    },
    "id": "QN_f4x1T4oCm",
    "outputId": "8358c200-efd1-4037-bb74-2bac5b66d1c5"
   },
   "outputs": [
    {
     "data": {
      "text/plain": [
       "(149, 26)"
      ]
     },
     "execution_count": 25,
     "metadata": {},
     "output_type": "execute_result"
    }
   ],
   "source": [
    "from sklearn.model_selection import train_test_split\n",
    "\n",
    "X_train, X_test, y_train, y_test = train_test_split(X,y,test_size = 0.2, random_state = 42)\n",
    "\n",
    "X_train.shape"
   ]
  },
  {
   "cell_type": "markdown",
   "metadata": {},
   "source": [
    "## Modelling\n",
    "\n",
    "Model yang digunakan untuk sekarang (keperluan UTS) adalah ```RandomForestClassifier```. "
   ]
  },
  {
   "cell_type": "code",
   "execution_count": 27,
   "metadata": {
    "colab": {
     "base_uri": "https://localhost:8080/",
     "height": 159
    },
    "executionInfo": {
     "elapsed": 1104,
     "status": "ok",
     "timestamp": 1603785069322,
     "user": {
      "displayName": "lang alang",
      "photoUrl": "https://lh3.googleusercontent.com/a-/AOh14GgplAvkTPBxxcjvkdrG2J0JksDWv-JNet5o1amhwcs=s64",
      "userId": "04852784157615382999"
     },
     "user_tz": -420
    },
    "id": "ODqfYDlp3cWO",
    "outputId": "81d09044-b777-490c-f970-c19bf10e6447"
   },
   "outputs": [
    {
     "name": "stderr",
     "output_type": "stream",
     "text": [
      "C:\\Users\\VAIO\\Anaconda3\\lib\\site-packages\\sklearn\\ensemble\\forest.py:245: FutureWarning: The default value of n_estimators will change from 10 in version 0.20 to 100 in 0.22.\n",
      "  \"10 in version 0.20 to 100 in 0.22.\", FutureWarning)\n"
     ]
    },
    {
     "data": {
      "text/plain": [
       "RandomForestClassifier(bootstrap=True, class_weight=None, criterion='entropy',\n",
       "                       max_depth=None, max_features='auto', max_leaf_nodes=None,\n",
       "                       min_impurity_decrease=0.0, min_impurity_split=None,\n",
       "                       min_samples_leaf=1, min_samples_split=2,\n",
       "                       min_weight_fraction_leaf=0.0, n_estimators=10,\n",
       "                       n_jobs=None, oob_score=False, random_state=42, verbose=0,\n",
       "                       warm_start=False)"
      ]
     },
     "execution_count": 27,
     "metadata": {},
     "output_type": "execute_result"
    }
   ],
   "source": [
    "model = RandomForestClassifier(criterion = 'entropy', random_state=42)\n",
    "\n",
    "model.fit(X_train, y_train)"
   ]
  },
  {
   "cell_type": "markdown",
   "metadata": {},
   "source": [
    "### Evaluating"
   ]
  },
  {
   "cell_type": "code",
   "execution_count": 28,
   "metadata": {
    "colab": {
     "base_uri": "https://localhost:8080/",
     "height": 177
    },
    "executionInfo": {
     "elapsed": 1416,
     "status": "ok",
     "timestamp": 1603785208003,
     "user": {
      "displayName": "lang alang",
      "photoUrl": "https://lh3.googleusercontent.com/a-/AOh14GgplAvkTPBxxcjvkdrG2J0JksDWv-JNet5o1amhwcs=s64",
      "userId": "04852784157615382999"
     },
     "user_tz": -420
    },
    "id": "R-2jA8a-5Tn7",
    "outputId": "e64c8a05-0b9f-49d9-b00f-c5113ccc2cd9"
   },
   "outputs": [
    {
     "name": "stdout",
     "output_type": "stream",
     "text": [
      "Confusion Matriks\n",
      " [[9 3 3]\n",
      " [6 3 0]\n",
      " [5 0 9]] \n",
      "\n",
      "Accuracy = 0.5526315789473685\n",
      "Precisi = 0.5723684210526315\n",
      "Recall = 0.5526315789473685\n",
      "F1 Score = 0.552805089647195\n"
     ]
    }
   ],
   "source": [
    "y_pred = model.predict(X_test)\n",
    "\n",
    "\n",
    "print('Confusion Matriks\\n',confusion_matrix(y_test, y_pred), '\\n')\n",
    "print('Accuracy =', accuracy_score(y_test, y_pred))\n",
    "print('Precisi =', precision_score(y_test, y_pred, average='weighted'))\n",
    "print('Recall =', recall_score(y_test, y_pred, average='weighted'))\n",
    "print('F1 Score =', f1_score(y_test, y_pred, average='weighted'))"
   ]
  },
  {
   "cell_type": "code",
   "execution_count": 30,
   "metadata": {
    "colab": {
     "base_uri": "https://localhost:8080/",
     "height": 70
    },
    "executionInfo": {
     "elapsed": 1654,
     "status": "ok",
     "timestamp": 1603785484154,
     "user": {
      "displayName": "lang alang",
      "photoUrl": "https://lh3.googleusercontent.com/a-/AOh14GgplAvkTPBxxcjvkdrG2J0JksDWv-JNet5o1amhwcs=s64",
      "userId": "04852784157615382999"
     },
     "user_tz": -420
    },
    "id": "91y99Bvn9Nn8",
    "outputId": "ec48d8f6-3276-4b43-a7d2-241cc844d371"
   },
   "outputs": [
    {
     "data": {
      "text/plain": [
       "{'fit_time': array([0.12480021, 0.12479997, 0.1092    , 0.22361183, 0.15520287]),\n",
       " 'score_time': array([0.0156002 , 0.0156002 , 0.0156002 , 0.02000117, 0.01559973]),\n",
       " 'test_score': array([0.48387097, 0.4       , 0.3       , 0.43333333, 0.5       ])}"
      ]
     },
     "execution_count": 30,
     "metadata": {},
     "output_type": "execute_result"
    }
   ],
   "source": [
    "cross_validate(model, X_train, y_train, scoring = 'accuracy', cv = 5)"
   ]
  },
  {
   "cell_type": "markdown",
   "metadata": {},
   "source": [
    "## Kesimpulan\n",
    "\n",
    "Dengan model Random Forest, rating film dapat di prediksi dengan akurasi merentang dari 0.4 hingga 0.5 \n",
    "\n",
    "Tentunya akurasi tersebut masih belum cukup bagus. Beberapa hal yang dapat dilakukan kedepannya adalah \n",
    "\n",
    "* Menambah dataset\n",
    "* Menggunakan model lain, seperti SVM, MultipleLogisticRegression, Neural Network\n",
    "* Melakukan hyperparameter tuning pada setiap model untuk mencari model paramater terbaik"
   ]
  }
 ],
 "metadata": {
  "colab": {
   "authorship_tag": "ABX9TyOUv944ISHb1iiNIYDQ2N5C",
   "collapsed_sections": [],
   "name": "UTS DMKM TELAT WOY",
   "provenance": []
  },
  "kernelspec": {
   "display_name": "Python 3",
   "language": "python",
   "name": "python3"
  }
 },
 "nbformat": 4,
 "nbformat_minor": 1
}

{
 "cells": [
  {
   "cell_type": "code",
   "execution_count": 99,
   "metadata": {
    "executionInfo": {
     "elapsed": 1083,
     "status": "ok",
     "timestamp": 1603783758873,
     "user": {
      "displayName": "lang alang",
      "photoUrl": "https://lh3.googleusercontent.com/a-/AOh14GgplAvkTPBxxcjvkdrG2J0JksDWv-JNet5o1amhwcs=s64",
      "userId": "04852784157615382999"
     },
     "user_tz": -420
    },
    "id": "8IToxmp_zbuJ"
   },
   "outputs": [],
   "source": [
    "import numpy as np\n",
    "import pandas as pd\n",
    "\n",
    "from sklearn.tree import DecisionTreeClassifier\n",
    "from sklearn.ensemble import RandomForestClassifier\n",
    "from sklearn.linear_model import LinearRegression\n",
    "\n",
    "import tensorflow as tf\n",
    "from tensorflow.keras import layers\n",
    "\n",
    "from sklearn.impute import SimpleImputer\n",
    "\n",
    "import matplotlib.pyplot as plt\n",
    "\n",
    "from sklearn.preprocessing import OneHotEncoder, LabelEncoder\n",
    "\n",
    "from sklearn.model_selection import cross_validate\n",
    "from sklearn.metrics import accuracy_score, recall_score, precision_score, f1_score, confusion_matrix, classification_report\n",
    "\n",
    "from sklearn.svm import SVC"
   ]
  },
  {
   "cell_type": "code",
   "execution_count": 4,
   "metadata": {
    "colab": {
     "base_uri": "https://localhost:8080/",
     "height": 431
    },
    "executionInfo": {
     "elapsed": 1395,
     "status": "ok",
     "timestamp": 1603781454525,
     "user": {
      "displayName": "lang alang",
      "photoUrl": "https://lh3.googleusercontent.com/a-/AOh14GgplAvkTPBxxcjvkdrG2J0JksDWv-JNet5o1amhwcs=s64",
      "userId": "04852784157615382999"
     },
     "user_tz": -420
    },
    "id": "IwkfA9y_0PfH",
    "outputId": "f8601c71-32f8-4ba5-f69c-9422d0f117a2"
   },
   "outputs": [
    {
     "data": {
      "text/html": [
       "<div>\n",
       "<style scoped>\n",
       "    .dataframe tbody tr th:only-of-type {\n",
       "        vertical-align: middle;\n",
       "    }\n",
       "\n",
       "    .dataframe tbody tr th {\n",
       "        vertical-align: top;\n",
       "    }\n",
       "\n",
       "    .dataframe thead th {\n",
       "        text-align: right;\n",
       "    }\n",
       "</style>\n",
       "<table border=\"1\" class=\"dataframe\">\n",
       "  <thead>\n",
       "    <tr style=\"text-align: right;\">\n",
       "      <th></th>\n",
       "      <th>Movie</th>\n",
       "      <th>Year</th>\n",
       "      <th>Ratings</th>\n",
       "      <th>Genre</th>\n",
       "      <th>Gross</th>\n",
       "      <th>Budget</th>\n",
       "      <th>Screens</th>\n",
       "      <th>Sequel</th>\n",
       "      <th>Sentiment</th>\n",
       "      <th>Views</th>\n",
       "      <th>Likes</th>\n",
       "      <th>Dislikes</th>\n",
       "      <th>Comments</th>\n",
       "      <th>Aggregate Followers</th>\n",
       "    </tr>\n",
       "  </thead>\n",
       "  <tbody>\n",
       "    <tr>\n",
       "      <th>0</th>\n",
       "      <td>13 Sins</td>\n",
       "      <td>2014</td>\n",
       "      <td>6.3</td>\n",
       "      <td>8</td>\n",
       "      <td>9130</td>\n",
       "      <td>4000000.0</td>\n",
       "      <td>45.0</td>\n",
       "      <td>1</td>\n",
       "      <td>0</td>\n",
       "      <td>3280543</td>\n",
       "      <td>4632</td>\n",
       "      <td>425</td>\n",
       "      <td>636</td>\n",
       "      <td>1120000.0</td>\n",
       "    </tr>\n",
       "    <tr>\n",
       "      <th>1</th>\n",
       "      <td>22 Jump Street</td>\n",
       "      <td>2014</td>\n",
       "      <td>7.1</td>\n",
       "      <td>1</td>\n",
       "      <td>192000000</td>\n",
       "      <td>50000000.0</td>\n",
       "      <td>3306.0</td>\n",
       "      <td>2</td>\n",
       "      <td>2</td>\n",
       "      <td>583289</td>\n",
       "      <td>3465</td>\n",
       "      <td>61</td>\n",
       "      <td>186</td>\n",
       "      <td>12350000.0</td>\n",
       "    </tr>\n",
       "    <tr>\n",
       "      <th>2</th>\n",
       "      <td>3 Days to Kill</td>\n",
       "      <td>2014</td>\n",
       "      <td>6.2</td>\n",
       "      <td>1</td>\n",
       "      <td>30700000</td>\n",
       "      <td>28000000.0</td>\n",
       "      <td>2872.0</td>\n",
       "      <td>1</td>\n",
       "      <td>0</td>\n",
       "      <td>304861</td>\n",
       "      <td>328</td>\n",
       "      <td>34</td>\n",
       "      <td>47</td>\n",
       "      <td>483000.0</td>\n",
       "    </tr>\n",
       "    <tr>\n",
       "      <th>3</th>\n",
       "      <td>300: Rise of an Empire</td>\n",
       "      <td>2014</td>\n",
       "      <td>6.3</td>\n",
       "      <td>1</td>\n",
       "      <td>106000000</td>\n",
       "      <td>110000000.0</td>\n",
       "      <td>3470.0</td>\n",
       "      <td>2</td>\n",
       "      <td>0</td>\n",
       "      <td>452917</td>\n",
       "      <td>2429</td>\n",
       "      <td>132</td>\n",
       "      <td>590</td>\n",
       "      <td>568000.0</td>\n",
       "    </tr>\n",
       "    <tr>\n",
       "      <th>4</th>\n",
       "      <td>A Haunted House 2</td>\n",
       "      <td>2014</td>\n",
       "      <td>4.7</td>\n",
       "      <td>8</td>\n",
       "      <td>17300000</td>\n",
       "      <td>3500000.0</td>\n",
       "      <td>2310.0</td>\n",
       "      <td>2</td>\n",
       "      <td>0</td>\n",
       "      <td>3145573</td>\n",
       "      <td>12163</td>\n",
       "      <td>610</td>\n",
       "      <td>1082</td>\n",
       "      <td>1923800.0</td>\n",
       "    </tr>\n",
       "    <tr>\n",
       "      <th>5</th>\n",
       "      <td>A Long Way Off</td>\n",
       "      <td>2014</td>\n",
       "      <td>4.6</td>\n",
       "      <td>3</td>\n",
       "      <td>29000</td>\n",
       "      <td>500000.0</td>\n",
       "      <td>NaN</td>\n",
       "      <td>1</td>\n",
       "      <td>0</td>\n",
       "      <td>91137</td>\n",
       "      <td>112</td>\n",
       "      <td>7</td>\n",
       "      <td>1</td>\n",
       "      <td>310000.0</td>\n",
       "    </tr>\n",
       "  </tbody>\n",
       "</table>\n",
       "</div>"
      ],
      "text/plain": [
       "                    Movie  Year  ...  Comments  Aggregate Followers\n",
       "0                 13 Sins  2014  ...       636            1120000.0\n",
       "1          22 Jump Street  2014  ...       186           12350000.0\n",
       "2          3 Days to Kill  2014  ...        47             483000.0\n",
       "3  300: Rise of an Empire  2014  ...       590             568000.0\n",
       "4       A Haunted House 2  2014  ...      1082            1923800.0\n",
       "5          A Long Way Off  2014  ...         1             310000.0\n",
       "\n",
       "[6 rows x 14 columns]"
      ]
     },
     "execution_count": 4,
     "metadata": {
      "tags": []
     },
     "output_type": "execute_result"
    }
   ],
   "source": [
    "data = pd.read_excel('/content/2014 and 2015 CSM dataset.xlsx')\n",
    "data.head(6)"
   ]
  },
  {
   "cell_type": "markdown",
   "metadata": {
    "id": "-DH-QUJW0j-b"
   },
   "source": [
    "# Eksplorasi Data"
   ]
  },
  {
   "cell_type": "code",
   "execution_count": 5,
   "metadata": {
    "colab": {
     "base_uri": "https://localhost:8080/",
     "height": 449
    },
    "executionInfo": {
     "elapsed": 1074,
     "status": "ok",
     "timestamp": 1603781466939,
     "user": {
      "displayName": "lang alang",
      "photoUrl": "https://lh3.googleusercontent.com/a-/AOh14GgplAvkTPBxxcjvkdrG2J0JksDWv-JNet5o1amhwcs=s64",
      "userId": "04852784157615382999"
     },
     "user_tz": -420
    },
    "id": "AKhIzi1R0rQK",
    "outputId": "cf686200-caf1-4f90-9a13-573c5c88fe52"
   },
   "outputs": [
    {
     "data": {
      "text/html": [
       "<div>\n",
       "<style scoped>\n",
       "    .dataframe tbody tr th:only-of-type {\n",
       "        vertical-align: middle;\n",
       "    }\n",
       "\n",
       "    .dataframe tbody tr th {\n",
       "        vertical-align: top;\n",
       "    }\n",
       "\n",
       "    .dataframe thead th {\n",
       "        text-align: right;\n",
       "    }\n",
       "</style>\n",
       "<table border=\"1\" class=\"dataframe\">\n",
       "  <thead>\n",
       "    <tr style=\"text-align: right;\">\n",
       "      <th></th>\n",
       "      <th>Movie</th>\n",
       "      <th>Year</th>\n",
       "      <th>Ratings</th>\n",
       "      <th>Genre</th>\n",
       "      <th>Gross</th>\n",
       "      <th>Budget</th>\n",
       "      <th>Screens</th>\n",
       "      <th>Sequel</th>\n",
       "      <th>Sentiment</th>\n",
       "      <th>Views</th>\n",
       "      <th>Likes</th>\n",
       "      <th>Dislikes</th>\n",
       "      <th>Comments</th>\n",
       "      <th>Aggregate Followers</th>\n",
       "    </tr>\n",
       "  </thead>\n",
       "  <tbody>\n",
       "    <tr>\n",
       "      <th>count</th>\n",
       "      <td>231</td>\n",
       "      <td>231.000000</td>\n",
       "      <td>231.000000</td>\n",
       "      <td>231.000000</td>\n",
       "      <td>2.310000e+02</td>\n",
       "      <td>2.300000e+02</td>\n",
       "      <td>221.000000</td>\n",
       "      <td>231.000000</td>\n",
       "      <td>231.000000</td>\n",
       "      <td>2.310000e+02</td>\n",
       "      <td>231.000000</td>\n",
       "      <td>231.000000</td>\n",
       "      <td>231.000000</td>\n",
       "      <td>1.960000e+02</td>\n",
       "    </tr>\n",
       "    <tr>\n",
       "      <th>unique</th>\n",
       "      <td>231</td>\n",
       "      <td>NaN</td>\n",
       "      <td>NaN</td>\n",
       "      <td>NaN</td>\n",
       "      <td>NaN</td>\n",
       "      <td>NaN</td>\n",
       "      <td>NaN</td>\n",
       "      <td>NaN</td>\n",
       "      <td>NaN</td>\n",
       "      <td>NaN</td>\n",
       "      <td>NaN</td>\n",
       "      <td>NaN</td>\n",
       "      <td>NaN</td>\n",
       "      <td>NaN</td>\n",
       "    </tr>\n",
       "    <tr>\n",
       "      <th>top</th>\n",
       "      <td>Inherent Vice</td>\n",
       "      <td>NaN</td>\n",
       "      <td>NaN</td>\n",
       "      <td>NaN</td>\n",
       "      <td>NaN</td>\n",
       "      <td>NaN</td>\n",
       "      <td>NaN</td>\n",
       "      <td>NaN</td>\n",
       "      <td>NaN</td>\n",
       "      <td>NaN</td>\n",
       "      <td>NaN</td>\n",
       "      <td>NaN</td>\n",
       "      <td>NaN</td>\n",
       "      <td>NaN</td>\n",
       "    </tr>\n",
       "    <tr>\n",
       "      <th>freq</th>\n",
       "      <td>1</td>\n",
       "      <td>NaN</td>\n",
       "      <td>NaN</td>\n",
       "      <td>NaN</td>\n",
       "      <td>NaN</td>\n",
       "      <td>NaN</td>\n",
       "      <td>NaN</td>\n",
       "      <td>NaN</td>\n",
       "      <td>NaN</td>\n",
       "      <td>NaN</td>\n",
       "      <td>NaN</td>\n",
       "      <td>NaN</td>\n",
       "      <td>NaN</td>\n",
       "      <td>NaN</td>\n",
       "    </tr>\n",
       "    <tr>\n",
       "      <th>mean</th>\n",
       "      <td>NaN</td>\n",
       "      <td>2014.294372</td>\n",
       "      <td>6.441558</td>\n",
       "      <td>5.359307</td>\n",
       "      <td>6.806603e+07</td>\n",
       "      <td>4.792173e+07</td>\n",
       "      <td>2209.244344</td>\n",
       "      <td>1.359307</td>\n",
       "      <td>2.809524</td>\n",
       "      <td>3.712851e+06</td>\n",
       "      <td>12732.536797</td>\n",
       "      <td>679.051948</td>\n",
       "      <td>1825.701299</td>\n",
       "      <td>3.038193e+06</td>\n",
       "    </tr>\n",
       "    <tr>\n",
       "      <th>std</th>\n",
       "      <td>NaN</td>\n",
       "      <td>0.456750</td>\n",
       "      <td>0.988765</td>\n",
       "      <td>4.141611</td>\n",
       "      <td>8.890289e+07</td>\n",
       "      <td>5.428825e+07</td>\n",
       "      <td>1463.767755</td>\n",
       "      <td>0.967241</td>\n",
       "      <td>6.996775</td>\n",
       "      <td>4.511104e+06</td>\n",
       "      <td>28825.484481</td>\n",
       "      <td>1243.929481</td>\n",
       "      <td>3571.040447</td>\n",
       "      <td>4.886278e+06</td>\n",
       "    </tr>\n",
       "    <tr>\n",
       "      <th>min</th>\n",
       "      <td>NaN</td>\n",
       "      <td>2014.000000</td>\n",
       "      <td>3.100000</td>\n",
       "      <td>1.000000</td>\n",
       "      <td>2.470000e+03</td>\n",
       "      <td>7.000000e+04</td>\n",
       "      <td>2.000000</td>\n",
       "      <td>1.000000</td>\n",
       "      <td>-38.000000</td>\n",
       "      <td>6.980000e+02</td>\n",
       "      <td>1.000000</td>\n",
       "      <td>0.000000</td>\n",
       "      <td>0.000000</td>\n",
       "      <td>1.066000e+03</td>\n",
       "    </tr>\n",
       "    <tr>\n",
       "      <th>25%</th>\n",
       "      <td>NaN</td>\n",
       "      <td>2014.000000</td>\n",
       "      <td>5.800000</td>\n",
       "      <td>1.000000</td>\n",
       "      <td>1.030000e+07</td>\n",
       "      <td>9.000000e+06</td>\n",
       "      <td>449.000000</td>\n",
       "      <td>1.000000</td>\n",
       "      <td>0.000000</td>\n",
       "      <td>6.233020e+05</td>\n",
       "      <td>1776.500000</td>\n",
       "      <td>105.500000</td>\n",
       "      <td>248.500000</td>\n",
       "      <td>1.830250e+05</td>\n",
       "    </tr>\n",
       "    <tr>\n",
       "      <th>50%</th>\n",
       "      <td>NaN</td>\n",
       "      <td>2014.000000</td>\n",
       "      <td>6.500000</td>\n",
       "      <td>3.000000</td>\n",
       "      <td>3.740000e+07</td>\n",
       "      <td>2.800000e+07</td>\n",
       "      <td>2777.000000</td>\n",
       "      <td>1.000000</td>\n",
       "      <td>0.000000</td>\n",
       "      <td>2.409338e+06</td>\n",
       "      <td>6096.000000</td>\n",
       "      <td>341.000000</td>\n",
       "      <td>837.000000</td>\n",
       "      <td>1.052600e+06</td>\n",
       "    </tr>\n",
       "    <tr>\n",
       "      <th>75%</th>\n",
       "      <td>NaN</td>\n",
       "      <td>2015.000000</td>\n",
       "      <td>7.100000</td>\n",
       "      <td>8.000000</td>\n",
       "      <td>8.935000e+07</td>\n",
       "      <td>6.500000e+07</td>\n",
       "      <td>3372.000000</td>\n",
       "      <td>1.000000</td>\n",
       "      <td>5.500000</td>\n",
       "      <td>5.217380e+06</td>\n",
       "      <td>15247.500000</td>\n",
       "      <td>697.500000</td>\n",
       "      <td>2137.000000</td>\n",
       "      <td>3.694500e+06</td>\n",
       "    </tr>\n",
       "    <tr>\n",
       "      <th>max</th>\n",
       "      <td>NaN</td>\n",
       "      <td>2015.000000</td>\n",
       "      <td>8.700000</td>\n",
       "      <td>15.000000</td>\n",
       "      <td>6.430000e+08</td>\n",
       "      <td>2.500000e+08</td>\n",
       "      <td>4324.000000</td>\n",
       "      <td>7.000000</td>\n",
       "      <td>29.000000</td>\n",
       "      <td>3.262678e+07</td>\n",
       "      <td>370552.000000</td>\n",
       "      <td>13960.000000</td>\n",
       "      <td>38363.000000</td>\n",
       "      <td>3.103000e+07</td>\n",
       "    </tr>\n",
       "  </tbody>\n",
       "</table>\n",
       "</div>"
      ],
      "text/plain": [
       "                Movie         Year  ...      Comments  Aggregate Followers\n",
       "count             231   231.000000  ...    231.000000         1.960000e+02\n",
       "unique            231          NaN  ...           NaN                  NaN\n",
       "top     Inherent Vice          NaN  ...           NaN                  NaN\n",
       "freq                1          NaN  ...           NaN                  NaN\n",
       "mean              NaN  2014.294372  ...   1825.701299         3.038193e+06\n",
       "std               NaN     0.456750  ...   3571.040447         4.886278e+06\n",
       "min               NaN  2014.000000  ...      0.000000         1.066000e+03\n",
       "25%               NaN  2014.000000  ...    248.500000         1.830250e+05\n",
       "50%               NaN  2014.000000  ...    837.000000         1.052600e+06\n",
       "75%               NaN  2015.000000  ...   2137.000000         3.694500e+06\n",
       "max               NaN  2015.000000  ...  38363.000000         3.103000e+07\n",
       "\n",
       "[11 rows x 14 columns]"
      ]
     },
     "execution_count": 5,
     "metadata": {
      "tags": []
     },
     "output_type": "execute_result"
    }
   ],
   "source": [
    "data.describe(include = 'all')"
   ]
  },
  {
   "cell_type": "code",
   "execution_count": 8,
   "metadata": {
    "colab": {
     "base_uri": "https://localhost:8080/",
     "height": 284
    },
    "executionInfo": {
     "elapsed": 1398,
     "status": "ok",
     "timestamp": 1603781604004,
     "user": {
      "displayName": "lang alang",
      "photoUrl": "https://lh3.googleusercontent.com/a-/AOh14GgplAvkTPBxxcjvkdrG2J0JksDWv-JNet5o1amhwcs=s64",
      "userId": "04852784157615382999"
     },
     "user_tz": -420
    },
    "id": "ALVharpF0xS-",
    "outputId": "c42b8c76-55b2-44eb-ee38-4eff3ed42f5a"
   },
   "outputs": [
    {
     "data": {
      "text/plain": [
       "Movie                  False\n",
       "Year                   False\n",
       "Ratings                False\n",
       "Genre                  False\n",
       "Gross                  False\n",
       "Budget                  True\n",
       "Screens                 True\n",
       "Sequel                 False\n",
       "Sentiment              False\n",
       "Views                  False\n",
       "Likes                  False\n",
       "Dislikes               False\n",
       "Comments               False\n",
       "Aggregate Followers     True\n",
       "dtype: bool"
      ]
     },
     "execution_count": 8,
     "metadata": {
      "tags": []
     },
     "output_type": "execute_result"
    }
   ],
   "source": [
    "data.isna().any(axis = 0)"
   ]
  },
  {
   "cell_type": "code",
   "execution_count": 29,
   "metadata": {
    "colab": {
     "base_uri": "https://localhost:8080/",
     "height": 230
    },
    "executionInfo": {
     "elapsed": 1077,
     "status": "ok",
     "timestamp": 1603782385764,
     "user": {
      "displayName": "lang alang",
      "photoUrl": "https://lh3.googleusercontent.com/a-/AOh14GgplAvkTPBxxcjvkdrG2J0JksDWv-JNet5o1amhwcs=s64",
      "userId": "04852784157615382999"
     },
     "user_tz": -420
    },
    "id": "uWmKRH1V33lo",
    "outputId": "ec7f2a6e-955a-4a29-a906-66ca68dddc9b"
   },
   "outputs": [
    {
     "data": {
      "text/plain": [
       "4.0       3\n",
       "3003.0    3\n",
       "66.0      3\n",
       "2.0       3\n",
       "3555.0    2\n",
       "         ..\n",
       "2104.0    1\n",
       "3956.0    1\n",
       "461.0     1\n",
       "3946.0    1\n",
       "45.0      1\n",
       "Name: Screens, Length: 200, dtype: int64"
      ]
     },
     "execution_count": 29,
     "metadata": {
      "tags": []
     },
     "output_type": "execute_result"
    }
   ],
   "source": [
    "data.Screens.value_counts()"
   ]
  },
  {
   "cell_type": "code",
   "execution_count": 9,
   "metadata": {
    "colab": {
     "base_uri": "https://localhost:8080/",
     "height": 284
    },
    "executionInfo": {
     "elapsed": 1134,
     "status": "ok",
     "timestamp": 1603781628332,
     "user": {
      "displayName": "lang alang",
      "photoUrl": "https://lh3.googleusercontent.com/a-/AOh14GgplAvkTPBxxcjvkdrG2J0JksDWv-JNet5o1amhwcs=s64",
      "userId": "04852784157615382999"
     },
     "user_tz": -420
    },
    "id": "Ho2fN4Oy1Vra",
    "outputId": "8d00ca8d-c8db-4d1f-c5ee-6907d9933686"
   },
   "outputs": [
    {
     "data": {
      "text/plain": [
       "Movie                   0\n",
       "Year                    0\n",
       "Ratings                 0\n",
       "Genre                   0\n",
       "Gross                   0\n",
       "Budget                  1\n",
       "Screens                10\n",
       "Sequel                  0\n",
       "Sentiment               0\n",
       "Views                   0\n",
       "Likes                   0\n",
       "Dislikes                0\n",
       "Comments                0\n",
       "Aggregate Followers    35\n",
       "dtype: int64"
      ]
     },
     "execution_count": 9,
     "metadata": {
      "tags": []
     },
     "output_type": "execute_result"
    }
   ],
   "source": [
    "data.isna().sum(axis = 0)"
   ]
  },
  {
   "cell_type": "code",
   "execution_count": 103,
   "metadata": {
    "colab": {
     "base_uri": "https://localhost:8080/",
     "height": 382
    },
    "executionInfo": {
     "elapsed": 1378,
     "status": "ok",
     "timestamp": 1603784358265,
     "user": {
      "displayName": "lang alang",
      "photoUrl": "https://lh3.googleusercontent.com/a-/AOh14GgplAvkTPBxxcjvkdrG2J0JksDWv-JNet5o1amhwcs=s64",
      "userId": "04852784157615382999"
     },
     "user_tz": -420
    },
    "id": "PxbPPsz41o2t",
    "outputId": "76537318-5f76-4786-c034-9d3f30b45bef"
   },
   "outputs": [
    {
     "data": {
      "text/html": [
       "<div>\n",
       "<style scoped>\n",
       "    .dataframe tbody tr th:only-of-type {\n",
       "        vertical-align: middle;\n",
       "    }\n",
       "\n",
       "    .dataframe tbody tr th {\n",
       "        vertical-align: top;\n",
       "    }\n",
       "\n",
       "    .dataframe thead th {\n",
       "        text-align: right;\n",
       "    }\n",
       "</style>\n",
       "<table border=\"1\" class=\"dataframe\">\n",
       "  <thead>\n",
       "    <tr style=\"text-align: right;\">\n",
       "      <th></th>\n",
       "      <th>Movie</th>\n",
       "      <th>Year</th>\n",
       "      <th>Ratings</th>\n",
       "      <th>Genre</th>\n",
       "      <th>Gross</th>\n",
       "      <th>Budget</th>\n",
       "      <th>Screens</th>\n",
       "      <th>Sequel</th>\n",
       "      <th>Sentiment</th>\n",
       "      <th>Views</th>\n",
       "      <th>Likes</th>\n",
       "      <th>Dislikes</th>\n",
       "      <th>Comments</th>\n",
       "      <th>Aggregate Followers</th>\n",
       "      <th>rating_class</th>\n",
       "    </tr>\n",
       "  </thead>\n",
       "  <tbody>\n",
       "    <tr>\n",
       "      <th>0</th>\n",
       "      <td>13 Sins</td>\n",
       "      <td>2014</td>\n",
       "      <td>6.3</td>\n",
       "      <td>8</td>\n",
       "      <td>9130</td>\n",
       "      <td>4000000.0</td>\n",
       "      <td>45.0</td>\n",
       "      <td>1</td>\n",
       "      <td>0</td>\n",
       "      <td>3280543</td>\n",
       "      <td>4632</td>\n",
       "      <td>425</td>\n",
       "      <td>636</td>\n",
       "      <td>1120000.0</td>\n",
       "      <td>sedang</td>\n",
       "    </tr>\n",
       "    <tr>\n",
       "      <th>1</th>\n",
       "      <td>22 Jump Street</td>\n",
       "      <td>2014</td>\n",
       "      <td>7.1</td>\n",
       "      <td>1</td>\n",
       "      <td>192000000</td>\n",
       "      <td>50000000.0</td>\n",
       "      <td>3306.0</td>\n",
       "      <td>2</td>\n",
       "      <td>2</td>\n",
       "      <td>583289</td>\n",
       "      <td>3465</td>\n",
       "      <td>61</td>\n",
       "      <td>186</td>\n",
       "      <td>12350000.0</td>\n",
       "      <td>tinggi</td>\n",
       "    </tr>\n",
       "    <tr>\n",
       "      <th>2</th>\n",
       "      <td>3 Days to Kill</td>\n",
       "      <td>2014</td>\n",
       "      <td>6.2</td>\n",
       "      <td>1</td>\n",
       "      <td>30700000</td>\n",
       "      <td>28000000.0</td>\n",
       "      <td>2872.0</td>\n",
       "      <td>1</td>\n",
       "      <td>0</td>\n",
       "      <td>304861</td>\n",
       "      <td>328</td>\n",
       "      <td>34</td>\n",
       "      <td>47</td>\n",
       "      <td>483000.0</td>\n",
       "      <td>sedang</td>\n",
       "    </tr>\n",
       "    <tr>\n",
       "      <th>3</th>\n",
       "      <td>300: Rise of an Empire</td>\n",
       "      <td>2014</td>\n",
       "      <td>6.3</td>\n",
       "      <td>1</td>\n",
       "      <td>106000000</td>\n",
       "      <td>110000000.0</td>\n",
       "      <td>3470.0</td>\n",
       "      <td>2</td>\n",
       "      <td>0</td>\n",
       "      <td>452917</td>\n",
       "      <td>2429</td>\n",
       "      <td>132</td>\n",
       "      <td>590</td>\n",
       "      <td>568000.0</td>\n",
       "      <td>sedang</td>\n",
       "    </tr>\n",
       "    <tr>\n",
       "      <th>4</th>\n",
       "      <td>A Haunted House 2</td>\n",
       "      <td>2014</td>\n",
       "      <td>4.7</td>\n",
       "      <td>8</td>\n",
       "      <td>17300000</td>\n",
       "      <td>3500000.0</td>\n",
       "      <td>2310.0</td>\n",
       "      <td>2</td>\n",
       "      <td>0</td>\n",
       "      <td>3145573</td>\n",
       "      <td>12163</td>\n",
       "      <td>610</td>\n",
       "      <td>1082</td>\n",
       "      <td>1923800.0</td>\n",
       "      <td>rendah</td>\n",
       "    </tr>\n",
       "  </tbody>\n",
       "</table>\n",
       "</div>"
      ],
      "text/plain": [
       "                    Movie  Year  ...  Aggregate Followers  rating_class\n",
       "0                 13 Sins  2014  ...            1120000.0        sedang\n",
       "1          22 Jump Street  2014  ...           12350000.0        tinggi\n",
       "2          3 Days to Kill  2014  ...             483000.0        sedang\n",
       "3  300: Rise of an Empire  2014  ...             568000.0        sedang\n",
       "4       A Haunted House 2  2014  ...            1923800.0        rendah\n",
       "\n",
       "[5 rows x 15 columns]"
      ]
     },
     "execution_count": 103,
     "metadata": {
      "tags": []
     },
     "output_type": "execute_result"
    }
   ],
   "source": [
    "bounder = np.quantile(data.Ratings, [0.33,0.66])\n",
    "\n",
    "\n",
    "class_ = ['rendah', 'sedang', 'tinggi']\n",
    "  \n",
    "data['rating_class'] = data.Ratings.apply(\n",
    "    lambda x : class_[sum(x > bounder)]\n",
    ")\n",
    "data.head(5)"
   ]
  },
  {
   "cell_type": "code",
   "execution_count": 25,
   "metadata": {
    "colab": {
     "base_uri": "https://localhost:8080/",
     "height": 88
    },
    "executionInfo": {
     "elapsed": 1022,
     "status": "ok",
     "timestamp": 1603782161839,
     "user": {
      "displayName": "lang alang",
      "photoUrl": "https://lh3.googleusercontent.com/a-/AOh14GgplAvkTPBxxcjvkdrG2J0JksDWv-JNet5o1amhwcs=s64",
      "userId": "04852784157615382999"
     },
     "user_tz": -420
    },
    "id": "Bwj36Xo82Thf",
    "outputId": "96b23d8a-d4a3-4939-a9ed-964ca4ffce26"
   },
   "outputs": [
    {
     "data": {
      "text/plain": [
       "tinggi    88\n",
       "rendah    80\n",
       "sedang    63\n",
       "Name: rating_class, dtype: int64"
      ]
     },
     "execution_count": 25,
     "metadata": {
      "tags": []
     },
     "output_type": "execute_result"
    }
   ],
   "source": [
    "data.rating_class.value_counts()"
   ]
  },
  {
   "cell_type": "markdown",
   "metadata": {
    "id": "1cKeSOEB3pxu"
   },
   "source": [
    "# Data Preproces"
   ]
  },
  {
   "cell_type": "code",
   "execution_count": 108,
   "metadata": {
    "executionInfo": {
     "elapsed": 1696,
     "status": "ok",
     "timestamp": 1603784960099,
     "user": {
      "displayName": "lang alang",
      "photoUrl": "https://lh3.googleusercontent.com/a-/AOh14GgplAvkTPBxxcjvkdrG2J0JksDWv-JNet5o1amhwcs=s64",
      "userId": "04852784157615382999"
     },
     "user_tz": -420
    },
    "id": "MPDxPHxO4WVl"
   },
   "outputs": [],
   "source": [
    "new_data = data.drop(['Movie', 'Year', 'Ratings'], axis = 1)\n",
    "\n",
    "new_data = new_data.dropna(axis = 0)"
   ]
  },
  {
   "cell_type": "code",
   "execution_count": 109,
   "metadata": {
    "executionInfo": {
     "elapsed": 2717,
     "status": "ok",
     "timestamp": 1603784964282,
     "user": {
      "displayName": "lang alang",
      "photoUrl": "https://lh3.googleusercontent.com/a-/AOh14GgplAvkTPBxxcjvkdrG2J0JksDWv-JNet5o1amhwcs=s64",
      "userId": "04852784157615382999"
     },
     "user_tz": -420
    },
    "id": "Ab6s9bbz5ZqF"
   },
   "outputs": [],
   "source": [
    "X = new_data.drop('rating_class', axis = 1)\n",
    "y = new_data['rating_class']\n",
    "\n",
    "cat_col = ['Genre', 'Sequel']\n",
    "\n",
    "ohe = OneHotEncoder(sparse = False)\n",
    "ohe.fit(data[cat_col])\n",
    "\n",
    "\n",
    "X = np.concatenate(\n",
    "  (X.drop(cat_col, axis = 1).to_numpy(),\n",
    "  ohe.fit_transform(X[cat_col])),\n",
    "  axis = 1\n",
    ")\n",
    "\n",
    "le = LabelEncoder()\n",
    "y = le.fit_transform(y)"
   ]
  },
  {
   "cell_type": "code",
   "execution_count": 110,
   "metadata": {
    "colab": {
     "base_uri": "https://localhost:8080/",
     "height": 248
    },
    "executionInfo": {
     "elapsed": 1468,
     "status": "ok",
     "timestamp": 1603784966663,
     "user": {
      "displayName": "lang alang",
      "photoUrl": "https://lh3.googleusercontent.com/a-/AOh14GgplAvkTPBxxcjvkdrG2J0JksDWv-JNet5o1amhwcs=s64",
      "userId": "04852784157615382999"
     },
     "user_tz": -420
    },
    "id": "mYAiqwIXBd7W",
    "outputId": "451bc483-fcb8-4108-b09f-21fa46a84fce"
   },
   "outputs": [
    {
     "data": {
      "text/plain": [
       "array([[9.130e+03, 4.000e+06, 4.500e+01, ..., 0.000e+00, 0.000e+00,\n",
       "        0.000e+00],\n",
       "       [1.920e+08, 5.000e+07, 3.306e+03, ..., 0.000e+00, 0.000e+00,\n",
       "        0.000e+00],\n",
       "       [3.070e+07, 2.800e+07, 2.872e+03, ..., 0.000e+00, 0.000e+00,\n",
       "        0.000e+00],\n",
       "       ...,\n",
       "       [1.310e+05, 4.500e+06, 7.900e+01, ..., 0.000e+00, 0.000e+00,\n",
       "        0.000e+00],\n",
       "       [1.290e+05, 4.000e+06, 1.400e+01, ..., 0.000e+00, 0.000e+00,\n",
       "        0.000e+00],\n",
       "       [1.060e+05, 1.500e+06, 2.200e+01, ..., 0.000e+00, 0.000e+00,\n",
       "        0.000e+00]])"
      ]
     },
     "execution_count": 110,
     "metadata": {
      "tags": []
     },
     "output_type": "execute_result"
    }
   ],
   "source": [
    "X"
   ]
  },
  {
   "cell_type": "code",
   "execution_count": 112,
   "metadata": {
    "colab": {
     "base_uri": "https://localhost:8080/",
     "height": 35
    },
    "executionInfo": {
     "elapsed": 1082,
     "status": "ok",
     "timestamp": 1603784991493,
     "user": {
      "displayName": "lang alang",
      "photoUrl": "https://lh3.googleusercontent.com/a-/AOh14GgplAvkTPBxxcjvkdrG2J0JksDWv-JNet5o1amhwcs=s64",
      "userId": "04852784157615382999"
     },
     "user_tz": -420
    },
    "id": "QN_f4x1T4oCm",
    "outputId": "8358c200-efd1-4037-bb74-2bac5b66d1c5"
   },
   "outputs": [
    {
     "data": {
      "text/plain": [
       "(149, 26)"
      ]
     },
     "execution_count": 112,
     "metadata": {
      "tags": []
     },
     "output_type": "execute_result"
    }
   ],
   "source": [
    "from sklearn.model_selection import train_test_split\n",
    "\n",
    "X_train, X_test, y_train, y_test = train_test_split(X,y,test_size = 0.2, random_state = 42)\n",
    "\n",
    "X_train.shape"
   ]
  },
  {
   "cell_type": "code",
   "execution_count": 107,
   "metadata": {
    "colab": {
     "base_uri": "https://localhost:8080/",
     "height": 168
    },
    "executionInfo": {
     "elapsed": 1076,
     "status": "error",
     "timestamp": 1603784946123,
     "user": {
      "displayName": "lang alang",
      "photoUrl": "https://lh3.googleusercontent.com/a-/AOh14GgplAvkTPBxxcjvkdrG2J0JksDWv-JNet5o1amhwcs=s64",
      "userId": "04852784157615382999"
     },
     "user_tz": -420
    },
    "id": "DPjb7p15B_vb",
    "outputId": "e121f3cc-915f-48b5-b13e-78d60e667941"
   },
   "outputs": [
    {
     "ename": "AttributeError",
     "evalue": "ignored",
     "output_type": "error",
     "traceback": [
      "\u001b[0;31m---------------------------------------------------------------------------\u001b[0m",
      "\u001b[0;31mAttributeError\u001b[0m                            Traceback (most recent call last)",
      "\u001b[0;32m<ipython-input-107-b07aec6f6b88>\u001b[0m in \u001b[0;36m<module>\u001b[0;34m()\u001b[0m\n\u001b[0;32m----> 1\u001b[0;31m \u001b[0mX_train\u001b[0m\u001b[0;34m.\u001b[0m\u001b[0misna\u001b[0m\u001b[0;34m(\u001b[0m\u001b[0;34m)\u001b[0m\u001b[0;34m.\u001b[0m\u001b[0many\u001b[0m\u001b[0;34m(\u001b[0m\u001b[0maxis\u001b[0m \u001b[0;34m=\u001b[0m\u001b[0;36m1\u001b[0m\u001b[0;34m)\u001b[0m\u001b[0;34m\u001b[0m\u001b[0;34m\u001b[0m\u001b[0m\n\u001b[0m",
      "\u001b[0;31mAttributeError\u001b[0m: 'numpy.ndarray' object has no attribute 'isna'"
     ]
    }
   ],
   "source": []
  },
  {
   "cell_type": "code",
   "execution_count": 113,
   "metadata": {
    "colab": {
     "base_uri": "https://localhost:8080/",
     "height": 159
    },
    "executionInfo": {
     "elapsed": 1104,
     "status": "ok",
     "timestamp": 1603785069322,
     "user": {
      "displayName": "lang alang",
      "photoUrl": "https://lh3.googleusercontent.com/a-/AOh14GgplAvkTPBxxcjvkdrG2J0JksDWv-JNet5o1amhwcs=s64",
      "userId": "04852784157615382999"
     },
     "user_tz": -420
    },
    "id": "ODqfYDlp3cWO",
    "outputId": "81d09044-b777-490c-f970-c19bf10e6447"
   },
   "outputs": [
    {
     "data": {
      "text/plain": [
       "RandomForestClassifier(bootstrap=True, ccp_alpha=0.0, class_weight=None,\n",
       "                       criterion='entropy', max_depth=None, max_features='auto',\n",
       "                       max_leaf_nodes=None, max_samples=None,\n",
       "                       min_impurity_decrease=0.0, min_impurity_split=None,\n",
       "                       min_samples_leaf=1, min_samples_split=2,\n",
       "                       min_weight_fraction_leaf=0.0, n_estimators=100,\n",
       "                       n_jobs=None, oob_score=False, random_state=42, verbose=0,\n",
       "                       warm_start=False)"
      ]
     },
     "execution_count": 113,
     "metadata": {
      "tags": []
     },
     "output_type": "execute_result"
    }
   ],
   "source": [
    "model = RandomForestClassifier(criterion = 'entropy', random_state=42)\n",
    "\n",
    "model.fit(X_train, y_train)"
   ]
  },
  {
   "cell_type": "code",
   "execution_count": 114,
   "metadata": {
    "colab": {
     "base_uri": "https://localhost:8080/",
     "height": 177
    },
    "executionInfo": {
     "elapsed": 1416,
     "status": "ok",
     "timestamp": 1603785208003,
     "user": {
      "displayName": "lang alang",
      "photoUrl": "https://lh3.googleusercontent.com/a-/AOh14GgplAvkTPBxxcjvkdrG2J0JksDWv-JNet5o1amhwcs=s64",
      "userId": "04852784157615382999"
     },
     "user_tz": -420
    },
    "id": "R-2jA8a-5Tn7",
    "outputId": "e64c8a05-0b9f-49d9-b00f-c5113ccc2cd9"
   },
   "outputs": [
    {
     "name": "stdout",
     "output_type": "stream",
     "text": [
      "Confusion Matriks\n",
      " [[7 3 5]\n",
      " [4 3 2]\n",
      " [5 0 9]] \n",
      "\n",
      "Accuracy = 0.5\n",
      "Precisi = 0.49835526315789475\n",
      "Recall = 0.5\n",
      "F1 Score = 0.49405772495755523\n"
     ]
    }
   ],
   "source": [
    "y_pred = model.predict(X_test)\n",
    "\n",
    "\n",
    "print('Confusion Matriks\\n',confusion_matrix(y_test, y_pred), '\\n')\n",
    "print('Accuracy =', accuracy_score(y_test, y_pred))\n",
    "print('Precisi =', precision_score(y_test, y_pred, average='weighted'))\n",
    "print('Recall =', recall_score(y_test, y_pred, average='weighted'))\n",
    "print('F1 Score =', f1_score(y_test, y_pred, average='weighted'))"
   ]
  },
  {
   "cell_type": "code",
   "execution_count": 126,
   "metadata": {
    "colab": {
     "base_uri": "https://localhost:8080/",
     "height": 70
    },
    "executionInfo": {
     "elapsed": 1654,
     "status": "ok",
     "timestamp": 1603785484154,
     "user": {
      "displayName": "lang alang",
      "photoUrl": "https://lh3.googleusercontent.com/a-/AOh14GgplAvkTPBxxcjvkdrG2J0JksDWv-JNet5o1amhwcs=s64",
      "userId": "04852784157615382999"
     },
     "user_tz": -420
    },
    "id": "91y99Bvn9Nn8",
    "outputId": "ec48d8f6-3276-4b43-a7d2-241cc844d371"
   },
   "outputs": [
    {
     "data": {
      "text/plain": [
       "{'fit_time': array([0.1738224 , 0.14231157, 0.14419317, 0.1425705 , 0.14868069]),\n",
       " 'score_time': array([0.00794387, 0.00759482, 0.00753856, 0.00753832, 0.00773406]),\n",
       " 'test_score': array([0.53333333, 0.53333333, 0.33333333, 0.56666667, 0.44827586])}"
      ]
     },
     "execution_count": 126,
     "metadata": {
      "tags": []
     },
     "output_type": "execute_result"
    }
   ],
   "source": [
    "cross_validate(model, X_train, y_train, scoring = 'accuracy')"
   ]
  }
 ],
 "metadata": {
  "colab": {
   "authorship_tag": "ABX9TyOUv944ISHb1iiNIYDQ2N5C",
   "collapsed_sections": [],
   "name": "UTS DMKM TELAT WOY",
   "provenance": []
  },
  "kernelspec": {
   "display_name": "Python 3",
   "language": "python",
   "name": "python3"
  },
  "language_info": {
   "codemirror_mode": {
    "name": "ipython",
    "version": 3
   },
   "file_extension": ".py",
   "mimetype": "text/x-python",
   "name": "python",
   "nbconvert_exporter": "python",
   "pygments_lexer": "ipython3",
   "version": "3.7.4"
  }
 },
 "nbformat": 4,
 "nbformat_minor": 1
}
